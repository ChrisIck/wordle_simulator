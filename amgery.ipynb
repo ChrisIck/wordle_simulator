{
 "cells": [
  {
   "cell_type": "code",
   "execution_count": 211,
   "metadata": {},
   "outputs": [],
   "source": [
    "import numpy as np\n",
    "import pandas as pd\n",
    "from tqdm import tqdm"
   ]
  },
  {
   "cell_type": "code",
   "execution_count": 204,
   "metadata": {},
   "outputs": [],
   "source": [
    "#load data\n",
    "guesses_df = pd.read_csv('valid_guesses.csv')\n",
    "solutions_df = pd.read_csv('valid_solutions.csv')\n",
    "all_words = pd.concat([guesses_df, solutions_df])"
   ]
  },
  {
   "cell_type": "code",
   "execution_count": 114,
   "metadata": {},
   "outputs": [],
   "source": [
    "#split data so each char has it's own column\n",
    "guesses_char_df = guesses_df['word'].apply(lambda x: pd.Series(list(x)))\n",
    "solutions_char_df = solutions_df['word'].apply(lambda x: pd.Series(list(x)))"
   ]
  },
  {
   "cell_type": "code",
   "execution_count": 115,
   "metadata": {},
   "outputs": [],
   "source": [
    "#function for splitting guesses into separate columns\n",
    "def split_char_df(word_df):\n",
    "    return word_df['word'].apply(lambda x: pd.Series(list(x)))"
   ]
  },
  {
   "cell_type": "code",
   "execution_count": 116,
   "metadata": {},
   "outputs": [],
   "source": [
    "#compute the distribution of characters at each position of the word\n",
    "def get_char_dist(word_df):\n",
    "    char_df = split_char_df(word_df)\n",
    "    n_rows = len(char_df)\n",
    "    dist_list = []\n",
    "    for col in char_df.columns.to_list():\n",
    "        dist_list.append(char_df[col].value_counts()/n_rows)\n",
    "    return pd.concat(dist_list, axis=1).sort_index()\n",
    "    "
   ]
  },
  {
   "cell_type": "code",
   "execution_count": 123,
   "metadata": {},
   "outputs": [],
   "source": [
    "#defining word value by the sum of probabilities of each letter at each position within the word\n",
    "def get_word_value(word, dist_df):\n",
    "    word_val = 0\n",
    "    for i, char in enumerate(word):\n",
    "        word_val += dist_df[i].loc[char]\n",
    "    return word_val"
   ]
  },
  {
   "cell_type": "code",
   "execution_count": 124,
   "metadata": {},
   "outputs": [
    {
     "data": {
      "text/plain": [
       "0.7009477338838321"
      ]
     },
     "execution_count": 124,
     "metadata": {},
     "output_type": "execute_result"
    }
   ],
   "source": [
    "guesses_dist = get_char_dist(guesses_df)\n",
    "get_word_value('tears', guesses_dist)"
   ]
  },
  {
   "cell_type": "code",
   "execution_count": 53,
   "metadata": {},
   "outputs": [
    {
     "name": "stdout",
     "output_type": "stream",
     "text": [
      "aahed is best w/ value 0.5048325044571643\n",
      "abacs is best w/ value 0.5415220043164117\n",
      "abbas is best w/ value 0.5416158393544149\n",
      "abbes is best w/ value 0.644646711081918\n",
      "abies is best w/ value 0.6922210753495355\n",
      "acnes is best w/ value 0.7026367645678896\n",
      "acres is best w/ value 0.7223421225485596\n",
      "aedes is best w/ value 0.7720746926902505\n",
      "aunes is best w/ value 0.7838040724406493\n",
      "aures is best w/ value 0.8035094304213193\n",
      "babes is best w/ value 0.8355071783804072\n",
      "bales is best w/ value 0.8784836257858685\n",
      "banes is best w/ value 0.8868349441681523\n",
      "bares is best w/ value 0.9065403021488223\n",
      "sales is best w/ value 0.9219292483813456\n",
      "sanes is best w/ value 0.9302805667636295\n",
      "sores is best w/ value 0.9366613493478464\n"
     ]
    }
   ],
   "source": [
    "word_value = {}\n",
    "best_value = 0\n",
    "best_word = ''\n",
    "for word in guesses_df['word'].to_list():\n",
    "    word_value[word] = get_word_value(word, guess_dist)\n",
    "    if word_value[word]>best_value:\n",
    "        best_word = word\n",
    "        best_value = word_value[word]\n",
    "        print('{} is best w/ value {}'.format(word,word_value[word]))"
   ]
  },
  {
   "cell_type": "code",
   "execution_count": 143,
   "metadata": {},
   "outputs": [],
   "source": [
    "def get_best_word(word_df, dist_df, verbose=False):\n",
    "    word_value = {}\n",
    "    best_value = 0\n",
    "    best_word = ''\n",
    "    for word in word_df['word'].to_list():\n",
    "        word_value[word] = get_word_value(word, dist_df)\n",
    "        if word_value[word]>best_value:\n",
    "            best_word = word\n",
    "            best_value = word_value[word]\n",
    "            if verbose:\n",
    "                print('{} is best w/ value {}'.format(word,word_value[word]))\n",
    "    return best_word"
   ]
  },
  {
   "cell_type": "code",
   "execution_count": 127,
   "metadata": {},
   "outputs": [
    {
     "data": {
      "text/plain": [
       "'sores'"
      ]
     },
     "execution_count": 127,
     "metadata": {},
     "output_type": "execute_result"
    }
   ],
   "source": [
    "best_word(guesses_df, guesses_dist)"
   ]
  },
  {
   "cell_type": "code",
   "execution_count": 128,
   "metadata": {},
   "outputs": [],
   "source": [
    "response = {'grey': 'ugh', 'yellow':{0:'t'}, 'green':{1:'o'}}"
   ]
  },
  {
   "cell_type": "code",
   "execution_count": 191,
   "metadata": {},
   "outputs": [],
   "source": [
    "def trim_dataset(word_df, response, verbose=False):\n",
    "    char_df = split_char_df(word_df)\n",
    "    #filter words without \n",
    "    \n",
    "    if verbose:\n",
    "        print(\"{} words to begin\".format(len(word_df)))\n",
    "        \n",
    "    for col in response['green'].keys():\n",
    "        green_char = response['green'][col]\n",
    "        word_df = word_df[word_df['word'].str[col]==green_char]\n",
    "        \n",
    "    if verbose:\n",
    "        print(\"{} words after green\".format(len(word_df)))\n",
    "        \n",
    "    for col in response['yellow'].keys():\n",
    "        yellow_char = response['yellow'][col]\n",
    "        word_df = word_df[word_df['word'].str.contains(yellow_char)]\n",
    "        word_df = word_df[~(word_df['word'].str[col]==yellow_char)]\n",
    "        \n",
    "    if verbose:\n",
    "        print(\"{} words after yellow\".format(len(word_df)))    \n",
    "        \n",
    "    for grey_char in response['grey']:\n",
    "        word_df = word_df[~word_df['word'].str.contains(grey_char)]\n",
    "        \n",
    "    if verbose:\n",
    "        print(\"{} words after grey\".format(len(word_df)))\n",
    "        \n",
    "    return word_df\n"
   ]
  },
  {
   "cell_type": "code",
   "execution_count": 192,
   "metadata": {},
   "outputs": [
    {
     "name": "stdout",
     "output_type": "stream",
     "text": [
      "10657 words to begin\n",
      "1817 words after green\n",
      "242 words after yellow\n",
      "180 words after grey\n"
     ]
    },
    {
     "data": {
      "text/html": [
       "<div>\n",
       "<style scoped>\n",
       "    .dataframe tbody tr th:only-of-type {\n",
       "        vertical-align: middle;\n",
       "    }\n",
       "\n",
       "    .dataframe tbody tr th {\n",
       "        vertical-align: top;\n",
       "    }\n",
       "\n",
       "    .dataframe thead th {\n",
       "        text-align: right;\n",
       "    }\n",
       "</style>\n",
       "<table border=\"1\" class=\"dataframe\">\n",
       "  <thead>\n",
       "    <tr style=\"text-align: right;\">\n",
       "      <th></th>\n",
       "      <th>word</th>\n",
       "    </tr>\n",
       "  </thead>\n",
       "  <tbody>\n",
       "    <tr>\n",
       "      <th>993</th>\n",
       "      <td>boart</td>\n",
       "    </tr>\n",
       "    <tr>\n",
       "      <th>994</th>\n",
       "      <td>boats</td>\n",
       "    </tr>\n",
       "    <tr>\n",
       "      <th>1011</th>\n",
       "      <td>boets</td>\n",
       "    </tr>\n",
       "    <tr>\n",
       "      <th>1027</th>\n",
       "      <td>boite</td>\n",
       "    </tr>\n",
       "    <tr>\n",
       "      <th>1039</th>\n",
       "      <td>bolts</td>\n",
       "    </tr>\n",
       "    <tr>\n",
       "      <th>...</th>\n",
       "      <td>...</td>\n",
       "    </tr>\n",
       "    <tr>\n",
       "      <th>10313</th>\n",
       "      <td>wonts</td>\n",
       "    </tr>\n",
       "    <tr>\n",
       "      <th>10325</th>\n",
       "      <td>wootz</td>\n",
       "    </tr>\n",
       "    <tr>\n",
       "      <th>10330</th>\n",
       "      <td>worts</td>\n",
       "    </tr>\n",
       "    <tr>\n",
       "      <th>10624</th>\n",
       "      <td>zoist</td>\n",
       "    </tr>\n",
       "    <tr>\n",
       "      <th>10638</th>\n",
       "      <td>zooty</td>\n",
       "    </tr>\n",
       "  </tbody>\n",
       "</table>\n",
       "<p>180 rows × 1 columns</p>\n",
       "</div>"
      ],
      "text/plain": [
       "        word\n",
       "993    boart\n",
       "994    boats\n",
       "1011   boets\n",
       "1027   boite\n",
       "1039   bolts\n",
       "...      ...\n",
       "10313  wonts\n",
       "10325  wootz\n",
       "10330  worts\n",
       "10624  zoist\n",
       "10638  zooty\n",
       "\n",
       "[180 rows x 1 columns]"
      ]
     },
     "execution_count": 192,
     "metadata": {},
     "output_type": "execute_result"
    }
   ],
   "source": [
    "trimmed_df = trim_dataset(guesses_df, response, verbose=True)\n",
    "trimmed_df"
   ]
  },
  {
   "cell_type": "code",
   "execution_count": 193,
   "metadata": {},
   "outputs": [],
   "source": [
    "def generate_response(word, target_word):\n",
    "    if word==target_word:\n",
    "        return False\n",
    "    \n",
    "    response = {'grey': '', 'yellow': {}, 'green':{}}\n",
    "    for i, char in enumerate(word):\n",
    "        if char in target_word:\n",
    "            if target_word[i]==char:\n",
    "                response['green'][i]=char\n",
    "            else:\n",
    "                response['yellow'][i] = char\n",
    "        else:\n",
    "             response['grey'] = response['grey'] + char\n",
    "    return response"
   ]
  },
  {
   "cell_type": "code",
   "execution_count": 194,
   "metadata": {},
   "outputs": [
    {
     "data": {
      "text/plain": [
       "{'grey': 'ugh', 'yellow': {0: 't'}, 'green': {1: 'o'}}"
      ]
     },
     "execution_count": 194,
     "metadata": {},
     "output_type": "execute_result"
    }
   ],
   "source": [
    "generate_response('tough', 'point') "
   ]
  },
  {
   "cell_type": "code",
   "execution_count": 213,
   "metadata": {},
   "outputs": [],
   "source": [
    "def play_game(word_df, target_word, verbose=False):\n",
    "    counts = [len(word_df)]\n",
    "    \n",
    "    while len(counts)<8:\n",
    "        #determine the 'optimal' word\n",
    "        dist_df = get_char_dist(word_df)\n",
    "        best_word = get_best_word(word_df, dist_df)\n",
    "\n",
    "        if verbose:\n",
    "            print('Guessing {}'.format(best_word))\n",
    "\n",
    "        #generate response\n",
    "        response = generate_response(best_word, target_word)\n",
    "\n",
    "\n",
    "        if not response:\n",
    "            if verbose:\n",
    "                print('Word {} guessed correctly!'.format(best_word))\n",
    "            return counts\n",
    "        \n",
    "        if verbose:\n",
    "            print(response)\n",
    "\n",
    "        #trim dataset\n",
    "        word_df = trim_dataset(word_df, response, verbose=verbose)\n",
    "        counts.append(len(word_df))\n",
    "        \n",
    "        if verbose:\n",
    "            print(word_df['word'].to_list())\n",
    "    \n",
    "    \n",
    "    return counts\n",
    "    "
   ]
  },
  {
   "cell_type": "code",
   "execution_count": 205,
   "metadata": {},
   "outputs": [
    {
     "name": "stdout",
     "output_type": "stream",
     "text": [
      "Guessing sores\n",
      "{'grey': 'sres', 'yellow': {}, 'green': {1: 'o'}}\n",
      "12972 words to begin\n",
      "2096 words after green\n",
      "2096 words after yellow\n",
      "520 words after grey\n",
      "['bobac', 'bobak', 'bobol', 'bocca', 'bocci', 'bodhi', 'boffo', 'bogan', 'boggy', 'boing', 'boink', 'bolix', 'bombo', 'bonny', 'bonza', 'booai', 'booay', 'boody', 'boofy', 'boogy', 'booky', 'boomy', 'boong', 'boppy', 'bothy', 'botty', 'boult', 'bovid', 'bowat', 'boxla', 'boxty', 'boyau', 'boyla', 'coact', 'coady', 'coala', 'coaly', 'coapt', 'coati', 'cobby', 'cobia', 'cobza', 'cocci', 'cocco', 'cocky', 'codon', 'cogon', 'cohab', 'cohog', 'coign', 'colby', 'colic', 'colin', 'colly', 'colog', 'colza', 'comal', 'combi', 'combo', 'comby', 'comix', 'commo', 'commy', 'compo', 'compt', 'conga', 'congo', 'conia', 'conin', 'conky', 'conto', 'convo', 'cooch', 'cooky', 'cooly', 'coomb', 'coomy', 'coopt', 'copal', 'copay', 'coppy', 'coqui', 'cotan', 'cotta', 'couta', 'couth', 'covin', 'cowal', 'cowan', 'coxal', 'coxib', 'coyau', 'coypu', 'dobby', 'dobla', 'docht', 'doddy', 'dogan', 'doggo', 'doggy', 'dohyo', 'doilt', 'doily', 'dolci', 'dolia', 'dolma', 'domal', 'domic', 'donah', 'donga', 'donko', 'donna', 'donny', 'doody', 'dooly', 'doomy', 'doona', 'doozy', 'dotal', 'dotty', 'doula', 'douma', 'dowly', 'downa', 'doyly', 'fogou', 'folia', 'folic', 'folky', 'fonda', 'fondu', 'fonly', 'foody', 'footy', 'fouat', 'fount', 'fouth', 'fowth', 'goaty', 'goban', 'gobbi', 'gobbo', 'gobby', 'gogga', 'goldy', 'gombo', 'gompa', 'gonch', 'gonia', 'gonif', 'gonna', 'gonof', 'gonzo', 'gooby', 'gooky', 'goold', 'gooly', 'goony', 'goopy', 'gopak', 'gopik', 'gotch', 'gothy', 'gotta', 'gouch', 'gouty', 'gowan', 'goyim', 'hoagy', 'hodad', 'hodja', 'hogan', 'hoick', 'hoing', 'hokku', 'hokum', 'holla', 'hollo', 'holon', 'honan', 'honda', 'hongi', 'honky', 'hooch', 'hoody', 'hooka', 'hooky', 'hooly', 'hooty', 'hopak', 'hoppy', 'hotch', 'hotty', 'houff', 'hough', 'howff', 'iodic', 'iodid', 'iodin', 'jocko', 'jocky', 'jokol', 'jolty', 'jomon', 'jonty', 'jotty', 'jotun', 'joual', 'jowly', 'koban', 'kofta', 'kogal', 'kokam', 'kokum', 'kombu', 'konbu', 'kondo', 'kooky', 'koppa', 'kotch', 'kotow', 'loach', 'locum', 'logan', 'loggy', 'logia', 'logoi', 'logon', 'lohan', 'lolly', 'lolog', 'longa', 'looby', 'loofa', 'looky', 'loony', 'loppy', 'lotah', 'lotic', 'lotta', 'lotto', 'lough', 'louma', 'lound', 'lovat', 'lowan', 'lownd', 'mobby', 'mochi', 'mochy', 'modii', 'moggy', 'mohua', 'molal', 'molla', 'molly', 'molto', 'momma', 'mommy', 'monad', 'monal', 'mondo', 'mongo', 'monic', 'monty', 'mooch', 'moola', 'mooli', 'mooly', 'moong', 'moony', 'moppy', 'mothy', 'motty', 'motza', 'mouch', 'mould', 'nobby', 'nodal', 'noddy', 'nohow', 'noily', 'noint', 'nomic', 'nomoi', 'nonny', 'nonyl', 'nooit', 'nooky', 'nopal', 'notal', 'notum', 'nould', 'nouny', 'novum', 'noway', 'nowty', 'noxal', 'noyau', 'oobit', 'oomph', 'ootid', 'poach', 'poaka', 'poboy', 'pocky', 'podal', 'poddy', 'podgy', 'podia', 'poilu', 'poind', 'pokal', 'polio', 'polly', 'pommy', 'poncy', 'ponga', 'pongo', 'pongy', 'ponty', 'ponzu', 'poofy', 'pooja', 'pooka', 'poopy', 'poovy', 'poppa', 'potch', 'potin', 'potoo', 'potto', 'potty', 'pouff', 'poulp', 'poult', 'poupt', 'powan', 'powin', 'pownd', 'powny', 'poynt', 'poyou', 'pozzy', 'toady', 'tocky', 'toffy', 'toing', 'tokay', 'tolan', 'tolly', 'tolyl', 'toman', 'tomia', 'tommy', 'tondi', 'tondo', 'tonka', 'tophi', 'topoi', 'toppy', 'totty', 'touzy', 'towny', 'towzy', 'toyon', 'vocab', 'voddy', 'vodou', 'vodun', 'volta', 'volti', 'volva', 'voulu', 'vozhd', 'woald', 'woful', 'wokka', 'wolly', 'womby', 'womyn', 'wonga', 'wongi', 'wonky', 'woofy', 'woold', 'woopy', 'wootz', 'xoana', 'yobbo', 'yobby', 'yogic', 'yogin', 'yoick', 'yojan', 'yokul', 'yolky', 'yomim', 'yonic', 'yowza', 'zocco', 'zombi', 'zonda', 'zooid', 'zooty', 'zoppa', 'zoppo', 'bobby', 'bongo', 'booby', 'booth', 'booty', 'boozy', 'botch', 'bough', 'bound', 'coach', 'cocoa', 'colon', 'comfy', 'comic', 'comma', 'conch', 'condo', 'conic', 'couch', 'cough', 'could', 'count', 'coyly', 'dodgy', 'dogma', 'doing', 'dolly', 'donut', 'doubt', 'dough', 'dowdy', 'downy', 'foamy', 'focal', 'foggy', 'folio', 'folly', 'found', 'godly', 'going', 'golly', 'gonad', 'goody', 'goofy', 'hobby', 'holly', 'hotly', 'hound', 'howdy', 'ionic', 'joint', 'jolly', 'koala', 'loamy', 'loath', 'lobby', 'local', 'lofty', 'logic', 'login', 'loopy', 'lowly', 'loyal', 'mocha', 'modal', 'mogul', 'moldy', 'month', 'moody', 'motif', 'motto', 'moult', 'mound', 'mount', 'mouth', 'nobly', 'nomad', 'notch', 'point', 'polka', 'polyp', 'pooch', 'poppy', 'pouch', 'pound', 'pouty', 'today', 'toddy', 'tonal', 'tonga', 'tonic', 'tooth', 'topaz', 'topic', 'total', 'touch', 'tough', 'toxic', 'toxin', 'vocal', 'vodka', 'voila', 'vomit', 'vouch', 'woman', 'woody', 'wooly', 'woozy', 'would', 'wound', 'young', 'youth', 'zonal']\n",
      "Guessing cooly\n",
      "{'grey': 'cly', 'yellow': {2: 'o'}, 'green': {1: 'o'}}\n",
      "520 words to begin\n",
      "520 words after green\n",
      "450 words after yellow\n",
      "145 words after grey\n",
      "['bobak', 'bodhi', 'boffo', 'bogan', 'boing', 'boink', 'bombo', 'bonza', 'bovid', 'bowat', 'dogan', 'doggo', 'donah', 'donga', 'donko', 'donna', 'douma', 'downa', 'fogou', 'fonda', 'fondu', 'fouat', 'fount', 'fouth', 'fowth', 'goban', 'gobbi', 'gobbo', 'gogga', 'gombo', 'gompa', 'gonia', 'gonif', 'gonna', 'gonof', 'gonzo', 'gopak', 'gopik', 'gotta', 'gowan', 'hodad', 'hodja', 'hogan', 'hoing', 'hokku', 'hokum', 'honan', 'honda', 'hongi', 'hopak', 'houff', 'hough', 'howff', 'iodid', 'iodin', 'jomon', 'jotun', 'koban', 'kofta', 'kokam', 'kokum', 'kombu', 'konbu', 'kondo', 'koppa', 'kotow', 'modii', 'mohua', 'momma', 'monad', 'mondo', 'mongo', 'motza', 'nohow', 'noint', 'nomoi', 'notum', 'novum', 'oobit', 'oomph', 'ootid', 'poaka', 'podia', 'poind', 'ponga', 'pongo', 'ponzu', 'poppa', 'potin', 'potoo', 'potto', 'pouff', 'poupt', 'powan', 'powin', 'pownd', 'toing', 'toman', 'tomia', 'tondi', 'tondo', 'tonka', 'tophi', 'topoi', 'vodou', 'vodun', 'vozhd', 'wokka', 'wonga', 'wongi', 'xoana', 'zombi', 'zonda', 'zoppa', 'zoppo', 'bongo', 'bough', 'bound', 'dogma', 'doing', 'donut', 'doubt', 'dough', 'found', 'going', 'gonad', 'hound', 'joint', 'month', 'motif', 'motto', 'mound', 'mount', 'mouth', 'nomad', 'point', 'pound', 'tonga', 'topaz', 'tough', 'toxin', 'vodka', 'vomit', 'woman', 'wound']\n",
      "Guessing gonna\n",
      "{'grey': 'ga', 'yellow': {2: 'n'}, 'green': {1: 'o', 3: 'n'}}\n",
      "145 words to begin\n",
      "23 words after green\n",
      "21 words after yellow\n",
      "14 words after grey\n",
      "['boink', 'fount', 'noint', 'poind', 'pownd', 'bound', 'found', 'hound', 'joint', 'mound', 'mount', 'point', 'pound', 'wound']\n",
      "Guessing pound\n",
      "{'grey': 'ud', 'yellow': {}, 'green': {0: 'p', 1: 'o', 3: 'n'}}\n",
      "14 words to begin\n",
      "4 words after green\n",
      "4 words after yellow\n",
      "1 words after grey\n",
      "['point']\n",
      "Guessing point\n",
      "Word point guessed correctly!\n"
     ]
    },
    {
     "data": {
      "text/plain": [
       "[12972, 520, 145, 14, 1]"
      ]
     },
     "execution_count": 205,
     "metadata": {},
     "output_type": "execute_result"
    }
   ],
   "source": [
    "play_game(all_words, 'point', verbose=True)"
   ]
  },
  {
   "cell_type": "code",
   "execution_count": 206,
   "metadata": {},
   "outputs": [],
   "source": [
    "guess_words = solutions_df.sample(250)['word'].to_list()"
   ]
  },
  {
   "cell_type": "code",
   "execution_count": null,
   "metadata": {},
   "outputs": [
    {
     "name": "stderr",
     "output_type": "stream",
     "text": [
      " 98%|█████████▊| 246/250 [21:57<00:22,  5.60s/it]"
     ]
    }
   ],
   "source": [
    "word_dist = []\n",
    "for word in tqdm(guess_words):\n",
    "    word_dist.append(play_game(all_words, word))"
   ]
  },
  {
   "cell_type": "code",
   "execution_count": null,
   "metadata": {},
   "outputs": [],
   "source": []
  }
 ],
 "metadata": {
  "kernelspec": {
   "display_name": "Python [conda env:.conda-py3.8] *",
   "language": "python",
   "name": "conda-env-.conda-py3.8-py"
  },
  "language_info": {
   "codemirror_mode": {
    "name": "ipython",
    "version": 3
   },
   "file_extension": ".py",
   "mimetype": "text/x-python",
   "name": "python",
   "nbconvert_exporter": "python",
   "pygments_lexer": "ipython3",
   "version": "3.8.2"
  }
 },
 "nbformat": 4,
 "nbformat_minor": 4
}
